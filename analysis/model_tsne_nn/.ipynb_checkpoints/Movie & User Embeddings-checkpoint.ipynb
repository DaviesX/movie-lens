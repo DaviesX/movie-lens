{
 "cells": [
  {
   "cell_type": "markdown",
   "metadata": {},
   "source": [
    "# Movie Embeddings"
   ]
  },
  {
   "cell_type": "code",
   "execution_count": 2,
   "metadata": {},
   "outputs": [
    {
     "name": "stdout",
     "output_type": "stream",
     "text": [
      "shape (9724, 10)\n",
      "max= 34.9247322627524\n",
      "average= -2.2674838252589105\n",
      "min= -24.61289602664685\n"
     ]
    },
    {
     "data": {
      "text/plain": [
       "(array([8.6710e+03, 5.4300e+02, 2.2500e+02, 1.1800e+02, 1.1100e+02,\n",
       "        2.7100e+02, 1.5270e+03, 1.8540e+04, 6.2284e+04, 3.2900e+03,\n",
       "        8.2300e+02, 3.7800e+02, 2.0800e+02, 1.1200e+02, 5.6000e+01,\n",
       "        4.4000e+01, 2.6000e+01, 1.0000e+01, 2.0000e+00, 1.0000e+00]),\n",
       " array([-24.61289603, -21.63601461, -18.6591332 , -15.68225178,\n",
       "        -12.70537037,  -9.72848895,  -6.75160754,  -3.77472613,\n",
       "         -0.79784471,   2.1790367 ,   5.15591812,   8.13279953,\n",
       "         11.10968095,  14.08656236,  17.06344378,  20.04032519,\n",
       "         23.0172066 ,  25.99408802,  28.97096943,  31.94785085,\n",
       "         34.92473226]),\n",
       " <a list of 20 Patch objects>)"
      ]
     },
     "execution_count": 2,
     "metadata": {},
     "output_type": "execute_result"
    }
   ],
   "source": [
    "import numpy as np\n",
    "import matplotlib.pyplot as plt\n",
    "\n",
    "movie_embeddings = np.load(file=\"../../data/embeddings_movie_train.npy\")\n",
    "\n",
    "print(\"shape\", movie_embeddings.shape)\n",
    "print(\"max=\", np.max(movie_embeddings))\n",
    "print(\"average=\", np.mean(movie_embeddings))\n",
    "print(\"min=\", np.min(movie_embeddings))\n",
    "\n",
    "plt.hist(x=movie_embeddings.flatten(), bins=20)"
   ]
  },
  {
   "cell_type": "code",
   "execution_count": 3,
   "metadata": {},
   "outputs": [
    {
     "data": {
      "text/plain": [
       "<matplotlib.collections.PathCollection at 0x1e506bbe6a0>"
      ]
     },
     "execution_count": 3,
     "metadata": {},
     "output_type": "execute_result"
    },
    {
     "data": {
      "image/png": "[encoded data removed]",
      "text/plain": [
       "<Figure size 432x288 with 1 Axes>"
      ]
     },
     "metadata": {
      "needs_background": "light"
     },
     "output_type": "display_data"
    }
   ],
   "source": [
    "plt.scatter(x=movie_embeddings[:,0], y=movie_embeddings[:,1])"
   ]
  },
  {
   "cell_type": "markdown",
   "metadata": {},
   "source": [
    "### Clusters"
   ]
  },
  {
   "cell_type": "code",
   "execution_count": null,
   "metadata": {},
   "outputs": [],
   "source": [
    "from sklearn.cluster import KMeans\n",
    "\n",
    "candids_cluster_sizes = [2, 10, 100, 500]\n",
    "scores = list()\n",
    "for k in candids_cluster_sizes:\n",
    "    kmeans_model = KMeans(n_clusters=k, random_state=1).fit(X=movie_embeddings)\n",
    "    scores.append(kmeans_model.score(movie_embeddings))\n",
    "\n",
    "plt.plot(candids_cluster_sizes, scores)\n"
   ]
  },
  {
   "cell_type": "code",
   "execution_count": null,
   "metadata": {},
   "outputs": [],
   "source": [
    "kmeans_model = KMeans(n_clusters=10, random_state=1).fit(X=movie_embeddings)\n",
    "membership = kmeans_model.predict(X=movie_embeddings)"
   ]
  },
  {
   "cell_type": "code",
   "execution_count": null,
   "metadata": {},
   "outputs": [],
   "source": [
    "from sklearn.manifold import TSNE\n",
    "\n",
    "tsne = TSNE(n_components=2)\n",
    "tsne_embeddings = tsne.fit_transform(movie_embeddings[:1000, :])"
   ]
  },
  {
   "cell_type": "code",
   "execution_count": null,
   "metadata": {},
   "outputs": [],
   "source": [
    "plt.scatter(x=tsne_embeddings[:,0], y=tsne_embeddings[:,1], c=membership[:1000], s=50)"
   ]
  },
  {
   "cell_type": "markdown",
   "metadata": {},
   "source": [
    "# User Embeddings"
   ]
  },
  {
   "cell_type": "code",
   "execution_count": null,
   "metadata": {},
   "outputs": [],
   "source": [
    "user_embeddings = np.load(file=\"../../data/embeddings_user_train.npy\")\n",
    "\n",
    "print(\"shape\", user_embeddings.shape)\n",
    "print(\"max=\", np.max(user_embeddings))\n",
    "print(\"average=\", np.mean(user_embeddings))\n",
    "print(\"min=\", np.min(user_embeddings))\n",
    "\n",
    "plt.hist(x=user_embeddings.flatten(), bins=20)"
   ]
  },
  {
   "cell_type": "code",
   "execution_count": null,
   "metadata": {},
   "outputs": [],
   "source": [
    "plt.scatter(x=user_embeddings[:,0], y=user_embeddings[:,1])"
   ]
  },
  {
   "cell_type": "code",
   "execution_count": null,
   "metadata": {},
   "outputs": [],
   "source": [
    "candids_cluster_sizes = [2, 5, 10, 40, 100, 200]\n",
    "scores = list()\n",
    "for k in candids_cluster_sizes:\n",
    "    kmeans_model = KMeans(n_clusters=k, random_state=1).fit(X=user_embeddings)\n",
    "    scores.append(kmeans_model.score(user_embeddings))\n",
    "\n",
    "plt.plot(candids_cluster_sizes, scores)\n"
   ]
  },
  {
   "cell_type": "code",
   "execution_count": null,
   "metadata": {},
   "outputs": [],
   "source": [
    "kmeans_model = KMeans(n_clusters=40, random_state=1).fit(X=user_embeddings)\n",
    "membership = kmeans_model.predict(X=user_embeddings)"
   ]
  },
  {
   "cell_type": "code",
   "execution_count": null,
   "metadata": {},
   "outputs": [],
   "source": [
    "tsne = TSNE(n_components=2)\n",
    "tsne_embeddings = tsne.fit_transform(user_embeddings)"
   ]
  },
  {
   "cell_type": "code",
   "execution_count": null,
   "metadata": {},
   "outputs": [],
   "source": [
    "plt.scatter(x=tsne_embeddings[:,0], y=tsne_embeddings[:,1], c=membership, s=50)"
   ]
  },
  {
   "cell_type": "markdown",
   "metadata": {},
   "source": [
    "# Feature quality"
   ]
  },
  {
   "cell_type": "code",
   "execution_count": null,
   "metadata": {},
   "outputs": [],
   "source": [
    "ground_truth_train = np.load(file=\"./data/rated_embeddings_train.npy\")\n",
    "train_x = ground_truth_train[:, 2:-1]\n"
   ]
  }
 ],
 "metadata": {
  "kernelspec": {
   "display_name": "Python 3",
   "language": "python",
   "name": "python3"
  },
  "language_info": {
   "codemirror_mode": {
    "name": "ipython",
    "version": 3
   },
   "file_extension": ".py",
   "mimetype": "text/x-python",
   "name": "python",
   "nbconvert_exporter": "python",
   "pygments_lexer": "ipython3",
   "version": "3.7.2"
  }
 },
 "nbformat": 4,
 "nbformat_minor": 2
}
