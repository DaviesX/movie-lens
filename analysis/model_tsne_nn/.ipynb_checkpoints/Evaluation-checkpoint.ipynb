{
 "cells": [
  {
   "cell_type": "markdown",
   "metadata": {},
   "source": [
    "# Performance"
   ]
  },
  {
   "cell_type": "code",
   "execution_count": 1,
   "metadata": {},
   "outputs": [],
   "source": [
    "import numpy as np\n",
    "import matplotlib.pyplot as plt\n",
    "\n",
    "def mse(y: np.ndarray, y_pred: np.ndarray) -> float:\n",
    "    \"\"\"Compute the mse loss.\n",
    "    \n",
    "    Arguments:\n",
    "        y {[np.ndarray]} -- 1D float values.\n",
    "        y_pred {[np.ndarray]} -- 1D float values.\n",
    "    \n",
    "    Returns:\n",
    "        float -- MSE value.\n",
    "    \"\"\"\n",
    "    d = (y_pred - y)\n",
    "    return np.mean(d*d)"
   ]
  },
  {
   "cell_type": "code",
   "execution_count": 3,
   "metadata": {},
   "outputs": [
    {
     "ename": "NameError",
     "evalue": "name 'ground_truth_ratings' is not defined",
     "output_type": "error",
     "traceback": [
      "\u001b[1;31m---------------------------------------------------------------------------\u001b[0m",
      "\u001b[1;31mNameError\u001b[0m                                 Traceback (most recent call last)",
      "\u001b[1;32m<ipython-input-3-0eb7810db367>\u001b[0m in \u001b[0;36m<module>\u001b[1;34m\u001b[0m\n\u001b[0;32m      3\u001b[0m \u001b[0mtrain_true_ratings\u001b[0m \u001b[1;33m=\u001b[0m \u001b[0mground_truth_train\u001b[0m\u001b[1;33m[\u001b[0m\u001b[1;33m:\u001b[0m\u001b[1;33m,\u001b[0m\u001b[1;33m-\u001b[0m\u001b[1;36m1\u001b[0m\u001b[1;33m]\u001b[0m\u001b[1;33m\u001b[0m\u001b[1;33m\u001b[0m\u001b[0m\n\u001b[0;32m      4\u001b[0m \u001b[0mtrain_pred_ratings\u001b[0m \u001b[1;33m=\u001b[0m \u001b[0mrating_pred_train\u001b[0m\u001b[1;33m[\u001b[0m\u001b[1;33m:\u001b[0m\u001b[1;33m,\u001b[0m\u001b[1;36m0\u001b[0m\u001b[1;33m]\u001b[0m\u001b[1;33m\u001b[0m\u001b[1;33m\u001b[0m\u001b[0m\n\u001b[1;32m----> 5\u001b[1;33m \u001b[0mprint\u001b[0m\u001b[1;33m(\u001b[0m\u001b[1;34m\"train_mse=\"\u001b[0m\u001b[1;33m,\u001b[0m \u001b[0mmse\u001b[0m\u001b[1;33m(\u001b[0m\u001b[0mtrain_pred_ratings\u001b[0m\u001b[1;33m,\u001b[0m \u001b[0mground_truth_ratings\u001b[0m\u001b[1;33m)\u001b[0m\u001b[1;33m)\u001b[0m\u001b[1;33m\u001b[0m\u001b[1;33m\u001b[0m\u001b[0m\n\u001b[0m\u001b[0;32m      6\u001b[0m \u001b[1;33m\u001b[0m\u001b[0m\n\u001b[0;32m      7\u001b[0m \u001b[0mground_truth_valid\u001b[0m \u001b[1;33m=\u001b[0m \u001b[0mnp\u001b[0m\u001b[1;33m.\u001b[0m\u001b[0mload\u001b[0m\u001b[1;33m(\u001b[0m\u001b[0mfile\u001b[0m\u001b[1;33m=\u001b[0m\u001b[1;34m\"./data/rated_embeddings_valid.npy\"\u001b[0m\u001b[1;33m)\u001b[0m\u001b[1;33m\u001b[0m\u001b[1;33m\u001b[0m\u001b[0m\n",
      "\u001b[1;31mNameError\u001b[0m: name 'ground_truth_ratings' is not defined"
     ]
    }
   ],
   "source": [
    "ground_truth_train = np.load(file=\"./data/rated_embeddings_train.npy\")\n",
    "rating_pred_train = np.load(file=\"./data/rating_pred_train_nn.npy\")\n",
    "train_true_ratings = ground_truth_train[:,-1]\n",
    "train_pred_ratings = rating_pred_train[:,0]\n",
    "print(\"train_mse=\", mse(train_pred_ratings, train_true_ratings))\n",
    "\n",
    "ground_truth_valid = np.load(file=\"./data/rated_embeddings_valid.npy\")\n",
    "rating_pred_valid = np.load(file=\"./data/rating_pred_valid_nn.npy\")\n",
    "valid_true_ratings = ground_truth_valid[:,-1]\n",
    "valid_pred_ratings = rating_pred_valid[:,0]\n",
    "print(\"valid_mse=\", mse(valid_pred_ratings, valid_true_ratings))"
   ]
  },
  {
   "cell_type": "markdown",
   "metadata": {},
   "source": [
    "### Rating distribution"
   ]
  },
  {
   "cell_type": "markdown",
   "metadata": {},
   "source": [
    "#### Training (ground truth)"
   ]
  },
  {
   "cell_type": "code",
   "execution_count": null,
   "metadata": {},
   "outputs": [],
   "source": [
    "plt.hist(x=train_true_ratings, bins=10)\n",
    "print(\"num_data_points=\", train_true_ratings.shape[0])\n",
    "print(\"mean=\", np.mean(train_true_ratings))"
   ]
  },
  {
   "cell_type": "markdown",
   "metadata": {},
   "source": [
    "#### Training (prediction)"
   ]
  },
  {
   "cell_type": "code",
   "execution_count": null,
   "metadata": {},
   "outputs": [],
   "source": [
    "plt.hist(x=train_pred_ratings, bins=10)\n",
    "print(\"num_data_points=\", train_pred_ratings.shape[0])\n",
    "print(\"mean=\", np.mean(train_pred_ratings))"
   ]
  },
  {
   "cell_type": "markdown",
   "metadata": {},
   "source": [
    "Training rating distribution doesn't look alike. The model only captures the mean."
   ]
  },
  {
   "cell_type": "markdown",
   "metadata": {},
   "source": [
    "#### Validation (ground truth)"
   ]
  },
  {
   "cell_type": "code",
   "execution_count": null,
   "metadata": {},
   "outputs": [],
   "source": [
    "plt.hist(x=valid_true_ratings, bins=10)\n",
    "print(\"num_data_points=\", valid_true_ratings.shape[0])\n",
    "print(\"mean=\", np.mean(valid_true_ratings))"
   ]
  },
  {
   "cell_type": "markdown",
   "metadata": {},
   "source": [
    "#### Validation (prediction)"
   ]
  },
  {
   "cell_type": "code",
   "execution_count": null,
   "metadata": {},
   "outputs": [],
   "source": [
    "plt.hist(x=valid_pred_ratings, bins=10)\n",
    "print(\"num_data_points=\", valid_pred_ratings.shape[0])\n",
    "print(\"mean=\", np.mean(valid_pred_ratings))"
   ]
  },
  {
   "cell_type": "markdown",
   "metadata": {},
   "source": [
    "So as the validation."
   ]
  },
  {
   "cell_type": "markdown",
   "metadata": {},
   "source": [
    "# Prediction plot"
   ]
  },
  {
   "cell_type": "code",
   "execution_count": null,
   "metadata": {},
   "outputs": [],
   "source": [
    "train_x = ground_truth_train[:, 2:-1]\n",
    "id_pairs = ground_truth_train[:, :2]\n",
    "\n",
    "print(\"num_features=\", train_x.shape[1])"
   ]
  },
  {
   "cell_type": "code",
   "execution_count": null,
   "metadata": {},
   "outputs": [],
   "source": [
    "plt.scatter(x=train_x[:1000,0], y=train_x[:1000,30], c=train_true_ratings[:1000], vmin=0, vmax=5, s=50)"
   ]
  },
  {
   "cell_type": "code",
   "execution_count": null,
   "metadata": {},
   "outputs": [],
   "source": [
    "plt.scatter(x=train_x[:1000,0], y=train_x[:1000,30], c=train_pred_ratings[:1000], vmin=0, vmax=5, s=50)"
   ]
  },
  {
   "cell_type": "code",
   "execution_count": null,
   "metadata": {},
   "outputs": [],
   "source": [
    "from sklearn.manifold import TSNE\n",
    "\n",
    "tsne = TSNE(n_components=2)\n",
    "tsne_train_x = tsne.fit_transform(train_x[:1000, :])"
   ]
  },
  {
   "cell_type": "code",
   "execution_count": null,
   "metadata": {},
   "outputs": [],
   "source": [
    "plt.scatter(x=tsne_train_x[:,0], y=tsne_train_x[:,1], c=train_true_ratings[:1000], vmin=0, vmax=5, s=50)"
   ]
  },
  {
   "cell_type": "code",
   "execution_count": null,
   "metadata": {},
   "outputs": [],
   "source": [
    "plt.scatter(x=tsne_train_x[:,0], y=tsne_train_x[:,1], c=train_pred_ratings[:1000], vmin=0, vmax=5, s=50)"
   ]
  },
  {
   "cell_type": "markdown",
   "metadata": {},
   "source": [
    "# Prediction samples"
   ]
  },
  {
   "cell_type": "code",
   "execution_count": null,
   "metadata": {},
   "outputs": [],
   "source": [
    "print(\"training_ground_truth=\", train_true_ratings[:20])"
   ]
  },
  {
   "cell_type": "code",
   "execution_count": null,
   "metadata": {},
   "outputs": [],
   "source": [
    "print(\"training_prediction=\", np.around(a=train_pred_ratings[:20], decimals=1))"
   ]
  },
  {
   "cell_type": "markdown",
   "metadata": {},
   "source": [
    "### When ratings are low"
   ]
  },
  {
   "cell_type": "code",
   "execution_count": null,
   "metadata": {},
   "outputs": [],
   "source": [
    "print(\"training_prediction(2)=\", np.around(a=train_pred_ratings[train_true_ratings == 2][: 20], decimals=1))"
   ]
  }
 ],
 "metadata": {
  "kernelspec": {
   "display_name": "Python 3",
   "language": "python",
   "name": "python3"
  },
  "language_info": {
   "codemirror_mode": {
    "name": "ipython",
    "version": 3
   },
   "file_extension": ".py",
   "mimetype": "text/x-python",
   "name": "python",
   "nbconvert_exporter": "python",
   "pygments_lexer": "ipython3",
   "version": "3.7.2"
  }
 },
 "nbformat": 4,
 "nbformat_minor": 2
}
