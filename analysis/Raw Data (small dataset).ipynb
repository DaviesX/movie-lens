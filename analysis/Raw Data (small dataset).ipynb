{
 "cells": [
  {
   "cell_type": "markdown",
   "metadata": {},
   "source": [
    "# Data distributions"
   ]
  },
  {
   "cell_type": "code",
   "execution_count": 16,
   "metadata": {},
   "outputs": [
    {
     "name": "stdout",
     "output_type": "stream",
     "text": [
      "shape (610, 193609)\n",
      "max= 5.0\n",
      "average= -0.9961565345195899\n",
      "min= -1.0\n"
     ]
    }
   ],
   "source": [
    "import numpy as np\n",
    "import matplotlib.pyplot as plt\n",
    "\n",
    "um = np.load(file=\"../data/raw_ratings_small.npy\")\n",
    "\n",
    "print(\"shape\", um.shape)\n",
    "print(\"max=\", np.max(um))\n",
    "print(\"average=\", np.mean(um))\n",
    "print(\"min=\", np.min(um))"
   ]
  },
  {
   "cell_type": "markdown",
   "metadata": {},
   "source": [
    "## Rating distriubution (over clicks)"
   ]
  },
  {
   "cell_type": "code",
   "execution_count": 17,
   "metadata": {},
   "outputs": [
    {
     "data": {
      "text/plain": [
       "(array([1.18000654e+08, 0.00000000e+00, 1.37000000e+03, 2.81100000e+03,\n",
       "        1.79100000e+03, 1.31010000e+04, 2.00470000e+04, 1.31360000e+04,\n",
       "        2.68180000e+04, 2.17620000e+04]),\n",
       " array([-1. , -0.4,  0.2,  0.8,  1.4,  2. ,  2.6,  3.2,  3.8,  4.4,  5. ]),\n",
       " <a list of 10 Patch objects>)"
      ]
     },
     "execution_count": 17,
     "metadata": {},
     "output_type": "execute_result"
    },
    {
     "data": {
      "image/png": "[encoded data removed]",
      "text/plain": [
       "<Figure size 432x288 with 1 Axes>"
      ]
     },
     "metadata": {
      "needs_background": "light"
     },
     "output_type": "display_data"
    }
   ],
   "source": [
    "plt.hist(x=um.flatten(), bins=10)"
   ]
  },
  {
   "cell_type": "markdown",
   "metadata": {},
   "source": [
    "## Percentage rated (over clicks)"
   ]
  },
  {
   "cell_type": "code",
   "execution_count": 18,
   "metadata": {},
   "outputs": [
    {
     "data": {
      "text/plain": [
       "0.000853808025622708"
      ]
     },
     "execution_count": 18,
     "metadata": {},
     "output_type": "execute_result"
    }
   ],
   "source": [
    "np.sum(um != -1)/(um.shape[0]*um.shape[1])"
   ]
  },
  {
   "cell_type": "markdown",
   "metadata": {},
   "source": [
    "## Rating distriubution when clicked (over clicks)"
   ]
  },
  {
   "cell_type": "code",
   "execution_count": 19,
   "metadata": {},
   "outputs": [
    {
     "data": {
      "text/plain": [
       "(array([ 1370.,  2811.,  1791.,  7551.,  5550., 20047., 13136., 26818.,\n",
       "         8551., 13211.]),\n",
       " array([0.5 , 0.95, 1.4 , 1.85, 2.3 , 2.75, 3.2 , 3.65, 4.1 , 4.55, 5.  ]),\n",
       " <a list of 10 Patch objects>)"
      ]
     },
     "execution_count": 19,
     "metadata": {},
     "output_type": "execute_result"
    },
    {
     "data": {
      "image/png": "[encoded data removed]",
      "text/plain": [
       "<Figure size 432x288 with 1 Axes>"
      ]
     },
     "metadata": {
      "needs_background": "light"
     },
     "output_type": "display_data"
    }
   ],
   "source": [
    "plt.hist(x=um[um != -1].flatten(), bins=10)"
   ]
  },
  {
   "cell_type": "markdown",
   "metadata": {},
   "source": [
    "## How many movies are rated per user?"
   ]
  },
  {
   "cell_type": "code",
   "execution_count": 20,
   "metadata": {},
   "outputs": [
    {
     "name": "stdout",
     "output_type": "stream",
     "text": [
      "min= 20\n",
      "max= 2698\n",
      "average= 165.30491803278687\n"
     ]
    },
    {
     "data": {
      "text/plain": [
       "(array([520.,  54.,  15.,  12.,   5.,   0.,   1.,   1.,   0.,   2.]),\n",
       " array([  20. ,  287.8,  555.6,  823.4, 1091.2, 1359. , 1626.8, 1894.6,\n",
       "        2162.4, 2430.2, 2698. ]),\n",
       " <a list of 10 Patch objects>)"
      ]
     },
     "execution_count": 20,
     "metadata": {},
     "output_type": "execute_result"
    },
    {
     "data": {
      "image/png": "[encoded data removed]",
      "text/plain": [
       "<Figure size 432x288 with 1 Axes>"
      ]
     },
     "metadata": {
      "needs_background": "light"
     },
     "output_type": "display_data"
    }
   ],
   "source": [
    "num_rated_per_user = np.sum(um != -1, axis=1)\n",
    "\n",
    "print(\"min=\", np.min(num_rated_per_user))\n",
    "print(\"max=\", np.max(num_rated_per_user))\n",
    "print(\"average=\", np.mean(num_rated_per_user))\n",
    "plt.hist(x=num_rated_per_user.flatten(), bins=10)"
   ]
  },
  {
   "cell_type": "markdown",
   "metadata": {},
   "source": [
    "## How many ratings each movie received?"
   ]
  },
  {
   "cell_type": "code",
   "execution_count": 21,
   "metadata": {},
   "outputs": [
    {
     "name": "stdout",
     "output_type": "stream",
     "text": [
      "min= 0\n",
      "max= 329\n",
      "average= 0.520822895629852\n"
     ]
    },
    {
     "data": {
      "text/plain": [
       "(array([1.92803e+05, 5.23000e+02, 1.43000e+02, 7.20000e+01, 3.00000e+01,\n",
       "        1.80000e+01, 1.20000e+01, 3.00000e+00, 2.00000e+00, 3.00000e+00]),\n",
       " array([  0. ,  32.9,  65.8,  98.7, 131.6, 164.5, 197.4, 230.3, 263.2,\n",
       "        296.1, 329. ]),\n",
       " <a list of 10 Patch objects>)"
      ]
     },
     "execution_count": 21,
     "metadata": {},
     "output_type": "execute_result"
    },
    {
     "data": {
      "image/png": "[encoded data removed]",
      "text/plain": [
       "<Figure size 432x288 with 1 Axes>"
      ]
     },
     "metadata": {
      "needs_background": "light"
     },
     "output_type": "display_data"
    }
   ],
   "source": [
    "num_rated_per_movie = np.sum(um != -1, axis=0)\n",
    "\n",
    "print(\"min=\", np.min(num_rated_per_movie))\n",
    "print(\"max=\", np.max(num_rated_per_movie))\n",
    "print(\"average=\", np.mean(num_rated_per_movie))\n",
    "plt.hist(x=num_rated_per_movie.flatten(), bins=10)"
   ]
  },
  {
   "cell_type": "markdown",
   "metadata": {},
   "source": [
    "## Proportion of movies that are not at all rated"
   ]
  },
  {
   "cell_type": "code",
   "execution_count": 22,
   "metadata": {},
   "outputs": [
    {
     "name": "stdout",
     "output_type": "stream",
     "text": [
      "p= 0.949775062109716\n"
     ]
    }
   ],
   "source": [
    "print(\"p=\", np.sum(num_rated_per_movie == 0)/num_rated_per_movie.shape[0])"
   ]
  }
 ],
 "metadata": {
  "kernelspec": {
   "display_name": "Python 3",
   "language": "python",
   "name": "python3"
  },
  "language_info": {
   "codemirror_mode": {
    "name": "ipython",
    "version": 3
   },
   "file_extension": ".py",
   "mimetype": "text/x-python",
   "name": "python",
   "nbconvert_exporter": "python",
   "pygments_lexer": "ipython3",
   "version": "3.7.2"
  }
 },
 "nbformat": 4,
 "nbformat_minor": 2
}
