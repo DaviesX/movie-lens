{
 "cells": [
  {
   "cell_type": "code",
   "execution_count": null,
   "metadata": {},
   "outputs": [],
   "source": [
    "from __future__ import absolute_import, division, print_function, unicode_literals\n",
    "\n",
    "import numpy as np\n",
    "import pandas as pd\n",
    "import tensorflow as tf\n",
    "\n",
    "from tensorflow.keras.layers import Embedding, Dense, Dropout, Input, Flatten, Multiply, Lambda\n",
    "from tensorflow.keras.models import Model\n",
    "from tensorflow.keras.regularizers import l1,l2\n",
    "from tensorflow.keras.constraints import UnitNorm, NonNeg\n",
    "\n",
    "from sklearn.cluster import KMeans, MiniBatchKMeans\n",
    "from sklearn.manifold import TSNE\n",
    "import matplotlib.pyplot as plt"
   ]
  },
  {
   "cell_type": "code",
   "execution_count": null,
   "metadata": {},
   "outputs": [],
   "source": [
    "# enable eager mode\n",
    "tf.enable_eager_execution()\n",
    "tf.executing_eagerly()"
   ]
  },
  {
   "cell_type": "code",
   "execution_count": null,
   "metadata": {},
   "outputs": [],
   "source": [
    "df = pd.read_csv(\"../../movie-lens-small-latest-dataset/ratings.csv\")\n",
    "train_data = df.sample(frac=1)\n",
    "train_data['rating']  = (train_data['rating'] - 2.5)/2.5"
   ]
  },
  {
   "cell_type": "code",
   "execution_count": null,
   "metadata": {},
   "outputs": [],
   "source": [
    "movies = pd.read_csv(\"../../movie-lens-small-latest-dataset/movies.csv\")"
   ]
  },
  {
   "cell_type": "code",
   "execution_count": null,
   "metadata": {},
   "outputs": [],
   "source": [
    "movie_avg_rating = df.groupby('movieId')['rating'].mean().reset_index()\n",
    "movie_avg_rating['rating'] = (movie_avg_rating['rating'] - 2.5)/2.5\n",
    "movie_avg_rating.columns = ['movieId', 'avg_rating']"
   ]
  },
  {
   "cell_type": "code",
   "execution_count": null,
   "metadata": {},
   "outputs": [],
   "source": [
    "movies.iloc[0]['genres'].split('|')\n",
    "movies.iloc[[0]]['genres'].astype(str)\n",
    "tf.keras.preprocessing.text.one_hot(movies.iloc[0]['genres'], 18, split='|')"
   ]
  },
  {
   "cell_type": "code",
   "execution_count": null,
   "metadata": {},
   "outputs": [],
   "source": [
    "_GENRE_LIST = ['Action','Adventure','Animation', 'Children', 'Comedy', 'Crime',\n",
    "               'Documentary', 'Drama', 'Fantasy','Film-Noir','Horror','Musical',\n",
    "               'Mystery','Romance','SciFi','Thriller','War','Western']\n",
    "_GENRE_DICT = {'Unknown':0, 'Action':1,'Adventure':2,'Animation':3, 'Children':4, 'Comedy':5,\n",
    "               'Crime':6, 'Documentary':7, 'Drama':8, 'Fantasy':9,'Film-Noir':10,'Horror':11,\n",
    "               'Musical':12,'Mystery':13,'Romance':14,'Sci-Fi':15,'Thriller':16,'War':17,'Western':18, }"
   ]
  },
  {
   "cell_type": "code",
   "execution_count": null,
   "metadata": {},
   "outputs": [],
   "source": [
    "len(_GENRE_DICT)"
   ]
  },
  {
   "cell_type": "code",
   "execution_count": null,
   "metadata": {},
   "outputs": [],
   "source": [
    "def genre_str_to_array(genre_str):\n",
    "    zeros = np.zeros(len(_GENRE_DICT))\n",
    "    genre_list = genre_str.split('|')\n",
    "    idx = [_GENRE_DICT[genre] if genre in _GENRE_DICT else _GENRE_DICT['Unknown']for genre in genre_list]\n",
    "    zeros.put(idx, 1)\n",
    "    return zeros"
   ]
  },
  {
   "cell_type": "code",
   "execution_count": null,
   "metadata": {},
   "outputs": [],
   "source": [
    "genre_str_to_array(movies.iloc[0]['genres'])\n",
    "movies['genres'] = movies['genres'].apply(genre_str_to_array, 'coloumns')"
   ]
  },
  {
   "cell_type": "code",
   "execution_count": null,
   "metadata": {},
   "outputs": [],
   "source": [
    "new_train_df = pd.merge(movie_avg_rating, movies, on='movieId')[['movieId', 'avg_rating', 'genres']]\n",
    "new_train_df2 = pd.merge(train_data, new_train_df, on='movieId')"
   ]
  },
  {
   "cell_type": "code",
   "execution_count": null,
   "metadata": {},
   "outputs": [],
   "source": [
    "def build_model():\n",
    "    \"\"\" Build a model that the rating equals the dot multiplication of user embedding and moving\n",
    "           embedding.\n",
    "           \n",
    "           IMO, this is similar to matrix factoraization.\n",
    "    \"\"\"\n",
    "    user = Input(shape=(1,))\n",
    "    movie = Input(shape=(1,))\n",
    "    movie_genre_mask = Input(shape=(19,))\n",
    "    movie_base_score = Input(shape=(1,))\n",
    "    # TODO(summerxyt): It might be better to use embeddings_constraints. But tf and keras throws\n",
    "    # an error I couldn't figure out why.\n",
    "    user_embedding = Flatten()(\n",
    "        Embedding(611, 19, embeddings_regularizer=l2(0.01), name='user_embedding')(user))\n",
    "    movie_raw_embedding = Flatten()(\n",
    "        Embedding(193610, 19, embeddings_regularizer=l2(0.01), name='movie_raw_embedding')(movie))\n",
    "    movie_embedding = Multiply()([movie_raw_embedding, movie_genre_mask])\n",
    "    genre_score = tf.keras.layers.Dot(axes=-1)([user_embedding, movie_embedding])\n",
    "    y = tf.keras.layers.Add()([genre_score, movie_base_score])\n",
    "\n",
    "    model = Model(inputs=[user, movie, movie_genre_mask, movie_base_score], outputs=y)\n",
    "    model.compile(optimizer='adam', loss='mean_squared_error')\n",
    "    return model"
   ]
  },
  {
   "cell_type": "code",
   "execution_count": null,
   "metadata": {},
   "outputs": [],
   "source": [
    "model = build_model()\n",
    "\n",
    "history = model.fit(x=[new_train_df2.userId.values, new_train_df2.movieId.values,\n",
    "                       np.stack(new_train_df2.genres), new_train_df2.avg_rating.values],\n",
    "                    y=new_train_df2.rating.values,\n",
    "                    batch_size=2048*32,\n",
    "                    #shuffle=True,\n",
    "                    epochs=1000,\n",
    "                    validation_split = 0.2,\n",
    "                    callbacks = [tf.keras.callbacks.EarlyStopping(patience=2)],\n",
    "                    verbose = 0)"
   ]
  },
  {
   "cell_type": "code",
   "execution_count": null,
   "metadata": {},
   "outputs": [],
   "source": [
    "user_embeddings = model.get_layer('user_embedding').get_weights()[0]\n",
    "movie_embeddings = model.get_layer('movie_raw_embedding').get_weights()[0]"
   ]
  },
  {
   "cell_type": "code",
   "execution_count": null,
   "metadata": {},
   "outputs": [],
   "source": [
    "users_clusters = KMeans(n_clusters=2).fit_predict(user_embeddings[1:])\n",
    "users_tsne = TSNE(n_components=2).fit_transform(user_embeddings[1:])\n",
    "plt.scatter(users_tsne[:,0], users_tsne[:,1], c=users_clusters)"
   ]
  },
  {
   "cell_type": "code",
   "execution_count": null,
   "metadata": {},
   "outputs": [],
   "source": []
  }
 ],
 "metadata": {
  "kernelspec": {
   "display_name": "Python 3",
   "language": "python",
   "name": "python3"
  },
  "language_info": {
   "codemirror_mode": {
    "name": "ipython",
    "version": 3
   },
   "file_extension": ".py",
   "mimetype": "text/x-python",
   "name": "python",
   "nbconvert_exporter": "python",
   "pygments_lexer": "ipython3",
   "version": "3.7.4"
  }
 },
 "nbformat": 4,
 "nbformat_minor": 4
}
