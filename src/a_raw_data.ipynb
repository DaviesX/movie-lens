{
 "cells": [
  {
   "cell_type": "markdown",
   "metadata": {},
   "source": [
    "# Data distributions"
   ]
  },
  {
   "cell_type": "code",
   "execution_count": 7,
   "metadata": {},
   "outputs": [
    {
     "name": "stdout",
     "output_type": "stream",
     "text": [
      "shape (610, 9724)\n",
      "max= 5.0\n",
      "average= 0.04774000107895964\n",
      "min= 0.0\n"
     ]
    }
   ],
   "source": [
    "from data import dataset\n",
    "import numpy as np\n",
    "from scipy.sparse import coo_matrix, csc_matrix, csr_matrix\n",
    "import matplotlib.pyplot as plt\n",
    "\n",
    "um = dataset.load_sparse_matrix(file=\"../data/raw_ratings_train.npz\")\n",
    "\n",
    "print(\"shape\", um.shape)\n",
    "print(\"max=\", np.max(um))\n",
    "print(\"average=\", np.mean(um))\n",
    "print(\"min=\", np.min(um))"
   ]
  },
  {
   "cell_type": "markdown",
   "metadata": {},
   "source": [
    "## Rating distriubution (over clicks)"
   ]
  },
  {
   "cell_type": "code",
   "execution_count": 8,
   "metadata": {},
   "outputs": [
    {
     "data": {
      "text/plain": [
       "(array([ 1077.,  2196.,  1405.,  5898.,  4456., 15982., 10517., 21620.,\n",
       "         6854., 10664.]),\n",
       " array([0.5 , 0.95, 1.4 , 1.85, 2.3 , 2.75, 3.2 , 3.65, 4.1 , 4.55, 5.  ]),\n",
       " <a list of 10 Patch objects>)"
      ]
     },
     "execution_count": 8,
     "metadata": {},
     "output_type": "execute_result"
    },
    {
     "data": {
      "image/png": "[encoded data removed]",
      "text/plain": [
       "<Figure size 432x288 with 1 Axes>"
      ]
     },
     "metadata": {
      "needs_background": "light"
     },
     "output_type": "display_data"
    }
   ],
   "source": [
    "plt.hist(x=um.data, bins=10)"
   ]
  },
  {
   "cell_type": "markdown",
   "metadata": {},
   "source": [
    "## Percentage rated (over clicks)"
   ]
  },
  {
   "cell_type": "code",
   "execution_count": 9,
   "metadata": {},
   "outputs": [
    {
     "data": {
      "text/plain": [
       "0.013599780161978811"
      ]
     },
     "execution_count": 9,
     "metadata": {},
     "output_type": "execute_result"
    }
   ],
   "source": [
    "np.sum(um != 0)/(um.shape[0]*um.shape[1])"
   ]
  },
  {
   "cell_type": "markdown",
   "metadata": {},
   "source": [
    "## How many movies are rated per user?"
   ]
  },
  {
   "cell_type": "code",
   "execution_count": 19,
   "metadata": {},
   "outputs": [
    {
     "name": "stdout",
     "output_type": "stream",
     "text": [
      "min= 13\n",
      "max= 2162\n",
      "average= 132.24426229508197\n"
     ]
    },
    {
     "data": {
      "text/plain": [
       "(array([521.,  53.,  16.,  11.,   5.,   0.,   1.,   1.,   0.,   2.]),\n",
       " array([  13. ,  227.9,  442.8,  657.7,  872.6, 1087.5, 1302.4, 1517.3,\n",
       "        1732.2, 1947.1, 2162. ]),\n",
       " <a list of 10 Patch objects>)"
      ]
     },
     "execution_count": 19,
     "metadata": {},
     "output_type": "execute_result"
    },
    {
     "data": {
      "image/png": "[encoded data removed]",
      "text/plain": [
       "<Figure size 432x288 with 1 Axes>"
      ]
     },
     "metadata": {
      "needs_background": "light"
     },
     "output_type": "display_data"
    }
   ],
   "source": [
    "num_ratings_per_user = np.sum(um.tocsr() != 0, axis=1)\n",
    "num_ratings_per_user = np.squeeze(np.asarray(num_ratings_per_user))\n",
    "\n",
    "print(\"min=\", np.min(num_ratings_per_user))\n",
    "print(\"max=\", np.max(num_ratings_per_user))\n",
    "print(\"average=\", np.mean(num_ratings_per_user))\n",
    "plt.hist(x=num_ratings_per_user, bins=10)"
   ]
  },
  {
   "cell_type": "markdown",
   "metadata": {},
   "source": [
    "## How many ratings each movie received?"
   ]
  },
  {
   "cell_type": "code",
   "execution_count": 20,
   "metadata": {},
   "outputs": [
    {
     "name": "stdout",
     "output_type": "stream",
     "text": [
      "min= 0\n",
      "max= 329\n",
      "average= 8.295865898807076\n"
     ]
    },
    {
     "data": {
      "text/plain": [
       "(array([9.073e+03, 4.260e+02, 1.100e+02, 6.000e+01, 2.500e+01, 1.500e+01,\n",
       "        1.000e+01, 1.000e+00, 2.000e+00, 2.000e+00]),\n",
       " array([  0. ,  32.9,  65.8,  98.7, 131.6, 164.5, 197.4, 230.3, 263.2,\n",
       "        296.1, 329. ]),\n",
       " <a list of 10 Patch objects>)"
      ]
     },
     "execution_count": 20,
     "metadata": {},
     "output_type": "execute_result"
    },
    {
     "data": {
      "image/png": "[encoded data removed]",
      "text/plain": [
       "<Figure size 432x288 with 1 Axes>"
      ]
     },
     "metadata": {
      "needs_background": "light"
     },
     "output_type": "display_data"
    }
   ],
   "source": [
    "um_csc = um.tocsc()\n",
    "num_ratings_per_movie = np.sum(um_csc != 0, axis=0)\n",
    "num_ratings_per_movie = np.squeeze(np.asarray(num_ratings_per_movie))\n",
    "\n",
    "print(\"min=\", np.min(num_ratings_per_movie))\n",
    "print(\"max=\", np.max(num_ratings_per_movie))\n",
    "print(\"average=\", np.mean(num_ratings_per_movie))\n",
    "plt.hist(x=num_ratings_per_movie, bins=10)"
   ]
  },
  {
   "cell_type": "markdown",
   "metadata": {},
   "source": [
    "## Proportion of movies that are not at all rated"
   ]
  },
  {
   "cell_type": "code",
   "execution_count": 21,
   "metadata": {},
   "outputs": [
    {
     "name": "stdout",
     "output_type": "stream",
     "text": [
      "p= 0.19631838749485808\n"
     ]
    }
   ],
   "source": [
    "print(\"p=\", np.sum(num_ratings_per_movie == 0)/num_ratings_per_movie.shape[0])"
   ]
  }
 ],
 "metadata": {
  "kernelspec": {
   "display_name": "Python 3",
   "language": "python",
   "name": "python3"
  },
  "language_info": {
   "codemirror_mode": {
    "name": "ipython",
    "version": 3
   },
   "file_extension": ".py",
   "mimetype": "text/x-python",
   "name": "python",
   "nbconvert_exporter": "python",
   "pygments_lexer": "ipython3",
   "version": "3.7.2"
  }
 },
 "nbformat": 4,
 "nbformat_minor": 2
}
