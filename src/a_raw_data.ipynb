{
 "cells": [
  {
   "cell_type": "markdown",
   "metadata": {},
   "source": [
    "# Data distributions"
   ]
  },
  {
   "cell_type": "markdown",
   "metadata": {},
   "source": [
    "### Training"
   ]
  },
  {
   "cell_type": "code",
   "execution_count": 53,
   "metadata": {},
   "outputs": [
    {
     "name": "stdout",
     "output_type": "stream",
     "text": [
      "shape (610, 9724)\n",
      "max= 5.0\n",
      "average= 0.04763067212440407\n",
      "min= 0.0\n"
     ]
    }
   ],
   "source": [
    "from data import dataset\n",
    "import numpy as np\n",
    "from scipy.sparse import coo_matrix, csc_matrix, csr_matrix\n",
    "import matplotlib.pyplot as plt\n",
    "\n",
    "um_train = dataset.load_sparse_matrix(file=\"../data/raw_ratings_train.npz\")\n",
    "\n",
    "print(\"shape\", um_train.shape)\n",
    "print(\"max=\", np.max(um_train))\n",
    "print(\"average=\", np.mean(um_train))\n",
    "print(\"min=\", np.min(um_train))"
   ]
  },
  {
   "cell_type": "markdown",
   "metadata": {},
   "source": [
    "### Valiation"
   ]
  },
  {
   "cell_type": "code",
   "execution_count": 54,
   "metadata": {},
   "outputs": [
    {
     "name": "stdout",
     "output_type": "stream",
     "text": [
      "shape (610, 9724)\n",
      "max= 5.0\n",
      "average= 0.01189468679825478\n",
      "min= 0.0\n"
     ]
    }
   ],
   "source": [
    "um_valid = dataset.load_sparse_matrix(file=\"../data/raw_ratings_valid.npz\")\n",
    "\n",
    "print(\"shape\", um_valid.shape)\n",
    "print(\"max=\", np.max(um_valid))\n",
    "print(\"average=\", np.mean(um_valid))\n",
    "print(\"min=\", np.min(um_valid))"
   ]
  },
  {
   "cell_type": "markdown",
   "metadata": {},
   "source": [
    "## Rating distriubution (over clicks)"
   ]
  },
  {
   "cell_type": "markdown",
   "metadata": {},
   "source": [
    "### Training"
   ]
  },
  {
   "cell_type": "code",
   "execution_count": 55,
   "metadata": {},
   "outputs": [
    {
     "data": {
      "text/plain": [
       "(array([ 1099.,  2252.,  1439.,  6014.,  4442., 16070., 10449., 21421.,\n",
       "         6891., 10592.]),\n",
       " array([0.5 , 0.95, 1.4 , 1.85, 2.3 , 2.75, 3.2 , 3.65, 4.1 , 4.55, 5.  ]),\n",
       " <a list of 10 Patch objects>)"
      ]
     },
     "execution_count": 55,
     "metadata": {},
     "output_type": "execute_result"
    },
    {
     "data": {
      "image/png": "[encoded data removed]",
      "text/plain": [
       "<Figure size 432x288 with 1 Axes>"
      ]
     },
     "metadata": {
      "needs_background": "light"
     },
     "output_type": "display_data"
    }
   ],
   "source": [
    "plt.hist(x=um_train.data, bins=10)"
   ]
  },
  {
   "cell_type": "markdown",
   "metadata": {},
   "source": [
    "### Validation"
   ]
  },
  {
   "cell_type": "code",
   "execution_count": 56,
   "metadata": {},
   "outputs": [
    {
     "data": {
      "text/plain": [
       "(array([ 271.,  559.,  352., 1537., 1108., 3977., 2687., 5397., 1660.,\n",
       "        2619.]),\n",
       " array([0.5 , 0.95, 1.4 , 1.85, 2.3 , 2.75, 3.2 , 3.65, 4.1 , 4.55, 5.  ]),\n",
       " <a list of 10 Patch objects>)"
      ]
     },
     "execution_count": 56,
     "metadata": {},
     "output_type": "execute_result"
    },
    {
     "data": {
      "image/png": "[encoded data removed]",
      "text/plain": [
       "<Figure size 432x288 with 1 Axes>"
      ]
     },
     "metadata": {
      "needs_background": "light"
     },
     "output_type": "display_data"
    }
   ],
   "source": [
    "plt.hist(x=um_valid.data, bins=10)"
   ]
  },
  {
   "cell_type": "markdown",
   "metadata": {},
   "source": [
    "## Percentage rated (over clicks)"
   ]
  },
  {
   "cell_type": "markdown",
   "metadata": {},
   "source": [
    "### Training"
   ]
  },
  {
   "cell_type": "code",
   "execution_count": 57,
   "metadata": {},
   "outputs": [
    {
     "data": {
      "text/plain": [
       "0.013599780161978811"
      ]
     },
     "execution_count": 57,
     "metadata": {},
     "output_type": "execute_result"
    }
   ],
   "source": [
    "np.sum(um_train != 0)/(um_train.shape[0]*um_train.shape[1])"
   ]
  },
  {
   "cell_type": "markdown",
   "metadata": {},
   "source": [
    "### Validation"
   ]
  },
  {
   "cell_type": "code",
   "execution_count": 58,
   "metadata": {},
   "outputs": [
    {
     "data": {
      "text/plain": [
       "0.0033999028936348126"
      ]
     },
     "execution_count": 58,
     "metadata": {},
     "output_type": "execute_result"
    }
   ],
   "source": [
    "np.sum(um_valid != 0)/(um_valid.shape[0]*um_valid.shape[1])"
   ]
  },
  {
   "cell_type": "markdown",
   "metadata": {},
   "source": [
    "## How many movies are rated per user?"
   ]
  },
  {
   "cell_type": "markdown",
   "metadata": {},
   "source": [
    "### Training"
   ]
  },
  {
   "cell_type": "code",
   "execution_count": 59,
   "metadata": {},
   "outputs": [
    {
     "name": "stdout",
     "output_type": "stream",
     "text": [
      "min= 12\n",
      "max= 2170\n",
      "average= 132.24426229508197\n"
     ]
    },
    {
     "data": {
      "text/plain": [
       "(array([521.,  54.,  15.,  11.,   5.,   0.,   1.,   1.,   0.,   2.]),\n",
       " array([  12. ,  227.8,  443.6,  659.4,  875.2, 1091. , 1306.8, 1522.6,\n",
       "        1738.4, 1954.2, 2170. ]),\n",
       " <a list of 10 Patch objects>)"
      ]
     },
     "execution_count": 59,
     "metadata": {},
     "output_type": "execute_result"
    },
    {
     "data": {
      "image/png": "[encoded data removed]",
      "text/plain": [
       "<Figure size 432x288 with 1 Axes>"
      ]
     },
     "metadata": {
      "needs_background": "light"
     },
     "output_type": "display_data"
    }
   ],
   "source": [
    "num_ratings_per_user = np.sum(um_train.tocsr() != 0, axis=1)\n",
    "num_ratings_per_user = np.squeeze(np.asarray(num_ratings_per_user))\n",
    "\n",
    "print(\"min=\", np.min(num_ratings_per_user))\n",
    "print(\"max=\", np.max(num_ratings_per_user))\n",
    "print(\"average=\", np.mean(num_ratings_per_user))\n",
    "plt.hist(x=num_ratings_per_user, bins=10)"
   ]
  },
  {
   "cell_type": "markdown",
   "metadata": {},
   "source": [
    "### Validation"
   ]
  },
  {
   "cell_type": "code",
   "execution_count": 60,
   "metadata": {},
   "outputs": [
    {
     "name": "stdout",
     "output_type": "stream",
     "text": [
      "min= 1\n",
      "max= 528\n",
      "average= 33.06065573770492\n"
     ]
    },
    {
     "data": {
      "text/plain": [
       "(array([507.,  65.,  18.,   9.,   5.,   2.,   1.,   1.,   0.,   2.]),\n",
       " array([  1. ,  53.7, 106.4, 159.1, 211.8, 264.5, 317.2, 369.9, 422.6,\n",
       "        475.3, 528. ]),\n",
       " <a list of 10 Patch objects>)"
      ]
     },
     "execution_count": 60,
     "metadata": {},
     "output_type": "execute_result"
    },
    {
     "data": {
      "image/png": "[encoded data removed]",
      "text/plain": [
       "<Figure size 432x288 with 1 Axes>"
      ]
     },
     "metadata": {
      "needs_background": "light"
     },
     "output_type": "display_data"
    }
   ],
   "source": [
    "num_ratings_per_user = np.sum(um_valid.tocsr() != 0, axis=1)\n",
    "num_ratings_per_user = np.squeeze(np.asarray(num_ratings_per_user))\n",
    "\n",
    "print(\"min=\", np.min(num_ratings_per_user))\n",
    "print(\"max=\", np.max(num_ratings_per_user))\n",
    "print(\"average=\", np.mean(num_ratings_per_user))\n",
    "plt.hist(x=num_ratings_per_user, bins=10)"
   ]
  },
  {
   "cell_type": "markdown",
   "metadata": {},
   "source": [
    "## How many ratings each movie received?"
   ]
  },
  {
   "cell_type": "markdown",
   "metadata": {},
   "source": [
    "### Training"
   ]
  },
  {
   "cell_type": "code",
   "execution_count": 61,
   "metadata": {},
   "outputs": [
    {
     "name": "stdout",
     "output_type": "stream",
     "text": [
      "min= 0\n",
      "max= 256\n",
      "average= 8.295865898807076\n"
     ]
    },
    {
     "data": {
      "text/plain": [
       "(array([8.901e+03, 5.310e+02, 1.430e+02, 7.700e+01, 3.300e+01, 1.600e+01,\n",
       "        1.500e+01, 2.000e+00, 3.000e+00, 3.000e+00]),\n",
       " array([  0. ,  25.6,  51.2,  76.8, 102.4, 128. , 153.6, 179.2, 204.8,\n",
       "        230.4, 256. ]),\n",
       " <a list of 10 Patch objects>)"
      ]
     },
     "execution_count": 61,
     "metadata": {},
     "output_type": "execute_result"
    },
    {
     "data": {
      "image/png": "[encoded data removed]",
      "text/plain": [
       "<Figure size 432x288 with 1 Axes>"
      ]
     },
     "metadata": {
      "needs_background": "light"
     },
     "output_type": "display_data"
    }
   ],
   "source": [
    "um_csc = um_train.tocsc()\n",
    "num_ratings_per_movie = np.sum(um_csc != 0, axis=0)\n",
    "num_ratings_per_movie = np.squeeze(np.asarray(num_ratings_per_movie))\n",
    "\n",
    "print(\"min=\", np.min(num_ratings_per_movie))\n",
    "print(\"max=\", np.max(num_ratings_per_movie))\n",
    "print(\"average=\", np.mean(num_ratings_per_movie))\n",
    "plt.hist(x=num_ratings_per_movie, bins=10)"
   ]
  },
  {
   "cell_type": "markdown",
   "metadata": {},
   "source": [
    "#### Proportion of movies that are not at all rated"
   ]
  },
  {
   "cell_type": "code",
   "execution_count": 62,
   "metadata": {},
   "outputs": [
    {
     "name": "stdout",
     "output_type": "stream",
     "text": [
      "p= 0.07640888523241464\n"
     ]
    }
   ],
   "source": [
    "print(\"p=\", np.sum(num_ratings_per_movie == 0)/num_ratings_per_movie.shape[0])"
   ]
  },
  {
   "cell_type": "markdown",
   "metadata": {},
   "source": [
    "### Validation"
   ]
  },
  {
   "cell_type": "code",
   "execution_count": 63,
   "metadata": {},
   "outputs": [
    {
     "name": "stdout",
     "output_type": "stream",
     "text": [
      "min= 0\n",
      "max= 73\n",
      "average= 2.0739407651172357\n"
     ]
    },
    {
     "data": {
      "text/plain": [
       "(array([9.022e+03, 4.480e+02, 1.340e+02, 6.500e+01, 2.800e+01, 1.600e+01,\n",
       "        4.000e+00, 4.000e+00, 2.000e+00, 1.000e+00]),\n",
       " array([ 0. ,  7.3, 14.6, 21.9, 29.2, 36.5, 43.8, 51.1, 58.4, 65.7, 73. ]),\n",
       " <a list of 10 Patch objects>)"
      ]
     },
     "execution_count": 63,
     "metadata": {},
     "output_type": "execute_result"
    },
    {
     "data": {
      "image/png": "[encoded data removed]",
      "text/plain": [
       "<Figure size 432x288 with 1 Axes>"
      ]
     },
     "metadata": {
      "needs_background": "light"
     },
     "output_type": "display_data"
    }
   ],
   "source": [
    "um_csc = um_valid.tocsc()\n",
    "num_ratings_per_movie = np.sum(um_csc != 0, axis=0)\n",
    "num_ratings_per_movie = np.squeeze(np.asarray(num_ratings_per_movie))\n",
    "\n",
    "print(\"min=\", np.min(num_ratings_per_movie))\n",
    "print(\"max=\", np.max(num_ratings_per_movie))\n",
    "print(\"average=\", np.mean(num_ratings_per_movie))\n",
    "plt.hist(x=num_ratings_per_movie, bins=10)"
   ]
  },
  {
   "cell_type": "markdown",
   "metadata": {},
   "source": [
    "#### Proportion of movies that are not at all rated"
   ]
  },
  {
   "cell_type": "code",
   "execution_count": 64,
   "metadata": {},
   "outputs": [
    {
     "name": "stdout",
     "output_type": "stream",
     "text": [
      "p= 0.4721308103661045\n"
     ]
    }
   ],
   "source": [
    "print(\"p=\", np.sum(num_ratings_per_movie == 0)/num_ratings_per_movie.shape[0])"
   ]
  }
 ],
 "metadata": {
  "kernelspec": {
   "display_name": "Python 3",
   "language": "python",
   "name": "python3"
  },
  "language_info": {
   "codemirror_mode": {
    "name": "ipython",
    "version": 3
   },
   "file_extension": ".py",
   "mimetype": "text/x-python",
   "name": "python",
   "nbconvert_exporter": "python",
   "pygments_lexer": "ipython3",
   "version": "3.7.2"
  }
 },
 "nbformat": 4,
 "nbformat_minor": 2
}
